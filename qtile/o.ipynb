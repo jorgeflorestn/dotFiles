{
 "cells": [
  {
   "cell_type": "code",
   "execution_count": 1,
   "metadata": {},
   "outputs": [
    {
     "data": {
      "text/plain": [
       "{'dark': ['#212121', '#212121'],\n",
       " 'grey': ['#353c4a', '#353c4a'],\n",
       " 'light': ['#f1ffff', '#f1ffff'],\n",
       " 'text': ['#0f101a', '#0f101a'],\n",
       " 'focus': ['#a151d3', '#a151d3'],\n",
       " 'active': ['#f1ffff', '#f1ffff'],\n",
       " 'inactive': ['#4c566a', '#4c566a'],\n",
       " 'urgent': ['#F07178', '#F07178'],\n",
       " 'color1': ['#a151d3', '#a151d3'],\n",
       " 'color2': ['#F07178', '#F07178'],\n",
       " 'color3': ['#fb9f7f', '#fb9f7f'],\n",
       " 'color4': ['#ffd47e', '#ffd47e']}"
      ]
     },
     "execution_count": 1,
     "metadata": {},
     "output_type": "execute_result"
    }
   ],
   "source": [
    "import json\n",
    "\n",
    "f = open('/home/jorge/.config/qtile/themes/material-darker.json')\n",
    "f2 = json.load(f)\n",
    "f2"
   ]
  }
 ],
 "metadata": {
  "kernelspec": {
   "display_name": "Python 3",
   "language": "python",
   "name": "python3"
  },
  "language_info": {
   "codemirror_mode": {
    "name": "ipython",
    "version": 3
   },
   "file_extension": ".py",
   "mimetype": "text/x-python",
   "name": "python",
   "nbconvert_exporter": "python",
   "pygments_lexer": "ipython3",
   "version": "3.10.6"
  },
  "orig_nbformat": 4
 },
 "nbformat": 4,
 "nbformat_minor": 2
}
